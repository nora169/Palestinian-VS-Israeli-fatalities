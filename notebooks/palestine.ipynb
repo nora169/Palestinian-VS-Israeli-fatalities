{
 "cells": [
  {
   "cell_type": "code",
   "execution_count": 1,
   "id": "809a90cf",
   "metadata": {},
   "outputs": [],
   "source": [
    "import pandas as pd"
   ]
  },
  {
   "cell_type": "code",
   "execution_count": 3,
   "id": "1a7e84dd",
   "metadata": {},
   "outputs": [
    {
     "data": {
      "text/html": [
       "<div>\n",
       "<style scoped>\n",
       "    .dataframe tbody tr th:only-of-type {\n",
       "        vertical-align: middle;\n",
       "    }\n",
       "\n",
       "    .dataframe tbody tr th {\n",
       "        vertical-align: top;\n",
       "    }\n",
       "\n",
       "    .dataframe thead th {\n",
       "        text-align: right;\n",
       "    }\n",
       "</style>\n",
       "<table border=\"1\" class=\"dataframe\">\n",
       "  <thead>\n",
       "    <tr style=\"text-align: right;\">\n",
       "      <th></th>\n",
       "      <th>name</th>\n",
       "      <th>date_of_event</th>\n",
       "      <th>age</th>\n",
       "      <th>citizenship</th>\n",
       "      <th>event_location</th>\n",
       "      <th>event_location_district</th>\n",
       "      <th>event_location_region</th>\n",
       "      <th>date_of_death</th>\n",
       "      <th>gender</th>\n",
       "      <th>took_part_in_the_hostilities</th>\n",
       "      <th>place_of_residence</th>\n",
       "      <th>place_of_residence_district</th>\n",
       "      <th>type_of_injury</th>\n",
       "      <th>ammunition</th>\n",
       "      <th>killed_by</th>\n",
       "      <th>notes</th>\n",
       "    </tr>\n",
       "  </thead>\n",
       "  <tbody>\n",
       "    <tr>\n",
       "      <th>0</th>\n",
       "      <td>'Abd a-Rahman Suleiman Muhammad Abu Daghash</td>\n",
       "      <td>2023-09-24</td>\n",
       "      <td>32.0</td>\n",
       "      <td>Palestinian</td>\n",
       "      <td>Nur Shams R.C.</td>\n",
       "      <td>Tulkarm</td>\n",
       "      <td>West Bank</td>\n",
       "      <td>2023-09-24</td>\n",
       "      <td>M</td>\n",
       "      <td>NaN</td>\n",
       "      <td>Nur Shams R.C.</td>\n",
       "      <td>Tulkarm</td>\n",
       "      <td>gunfire</td>\n",
       "      <td>live ammunition</td>\n",
       "      <td>Israeli security forces</td>\n",
       "      <td>Fatally shot by Israeli forces while standing ...</td>\n",
       "    </tr>\n",
       "    <tr>\n",
       "      <th>1</th>\n",
       "      <td>Usayed Farhan Muhammad 'Ali Abu 'Ali</td>\n",
       "      <td>2023-09-24</td>\n",
       "      <td>21.0</td>\n",
       "      <td>Palestinian</td>\n",
       "      <td>Nur Shams R.C.</td>\n",
       "      <td>Tulkarm</td>\n",
       "      <td>West Bank</td>\n",
       "      <td>2023-09-24</td>\n",
       "      <td>M</td>\n",
       "      <td>NaN</td>\n",
       "      <td>Nur Shams R.C.</td>\n",
       "      <td>Tulkarm</td>\n",
       "      <td>gunfire</td>\n",
       "      <td>live ammunition</td>\n",
       "      <td>Israeli security forces</td>\n",
       "      <td>Fatally shot by Israeli forces while trying to...</td>\n",
       "    </tr>\n",
       "    <tr>\n",
       "      <th>2</th>\n",
       "      <td>'Abdallah 'Imad Sa'ed Abu Hassan</td>\n",
       "      <td>2023-09-22</td>\n",
       "      <td>16.0</td>\n",
       "      <td>Palestinian</td>\n",
       "      <td>Kfar Dan</td>\n",
       "      <td>Jenin</td>\n",
       "      <td>West Bank</td>\n",
       "      <td>2023-09-22</td>\n",
       "      <td>M</td>\n",
       "      <td>NaN</td>\n",
       "      <td>al-Yamun</td>\n",
       "      <td>Jenin</td>\n",
       "      <td>gunfire</td>\n",
       "      <td>live ammunition</td>\n",
       "      <td>Israeli security forces</td>\n",
       "      <td>Fatally shot by soldiers while firing at them ...</td>\n",
       "    </tr>\n",
       "    <tr>\n",
       "      <th>3</th>\n",
       "      <td>Durgham Muhammad Yihya al-Akhras</td>\n",
       "      <td>2023-09-20</td>\n",
       "      <td>19.0</td>\n",
       "      <td>Palestinian</td>\n",
       "      <td>'Aqbat Jaber R.C.</td>\n",
       "      <td>Jericho</td>\n",
       "      <td>West Bank</td>\n",
       "      <td>2023-09-20</td>\n",
       "      <td>M</td>\n",
       "      <td>NaN</td>\n",
       "      <td>'Aqbat Jaber R.C.</td>\n",
       "      <td>Jericho</td>\n",
       "      <td>gunfire</td>\n",
       "      <td>live ammunition</td>\n",
       "      <td>Israeli security forces</td>\n",
       "      <td>Shot in the head by Israeli forces while throw...</td>\n",
       "    </tr>\n",
       "    <tr>\n",
       "      <th>4</th>\n",
       "      <td>Raafat 'Omar Ahmad Khamaisah</td>\n",
       "      <td>2023-09-19</td>\n",
       "      <td>15.0</td>\n",
       "      <td>Palestinian</td>\n",
       "      <td>Jenin R.C.</td>\n",
       "      <td>Jenin</td>\n",
       "      <td>West Bank</td>\n",
       "      <td>2023-09-19</td>\n",
       "      <td>M</td>\n",
       "      <td>NaN</td>\n",
       "      <td>Jenin</td>\n",
       "      <td>Jenin</td>\n",
       "      <td>gunfire</td>\n",
       "      <td>live ammunition</td>\n",
       "      <td>Israeli security forces</td>\n",
       "      <td>Wounded by soldiers’ gunfire after running awa...</td>\n",
       "    </tr>\n",
       "    <tr>\n",
       "      <th>...</th>\n",
       "      <td>...</td>\n",
       "      <td>...</td>\n",
       "      <td>...</td>\n",
       "      <td>...</td>\n",
       "      <td>...</td>\n",
       "      <td>...</td>\n",
       "      <td>...</td>\n",
       "      <td>...</td>\n",
       "      <td>...</td>\n",
       "      <td>...</td>\n",
       "      <td>...</td>\n",
       "      <td>...</td>\n",
       "      <td>...</td>\n",
       "      <td>...</td>\n",
       "      <td>...</td>\n",
       "      <td>...</td>\n",
       "    </tr>\n",
       "    <tr>\n",
       "      <th>11119</th>\n",
       "      <td>Binyamin Herling</td>\n",
       "      <td>2000-10-19</td>\n",
       "      <td>64.0</td>\n",
       "      <td>Israeli</td>\n",
       "      <td>Nablus</td>\n",
       "      <td>Nablus</td>\n",
       "      <td>West Bank</td>\n",
       "      <td>2000-10-19</td>\n",
       "      <td>M</td>\n",
       "      <td>Israelis</td>\n",
       "      <td>Kedumim</td>\n",
       "      <td>Tulkarm</td>\n",
       "      <td>gunfire</td>\n",
       "      <td>live ammunition</td>\n",
       "      <td>Palestinian civilians</td>\n",
       "      <td>Killed while hiking on Mt. Eival.</td>\n",
       "    </tr>\n",
       "    <tr>\n",
       "      <th>11120</th>\n",
       "      <td>Farid Musa 'Issa a-Nesasreh</td>\n",
       "      <td>2000-10-17</td>\n",
       "      <td>28.0</td>\n",
       "      <td>Palestinian</td>\n",
       "      <td>Beit Furik</td>\n",
       "      <td>Nablus</td>\n",
       "      <td>West Bank</td>\n",
       "      <td>2000-10-17</td>\n",
       "      <td>M</td>\n",
       "      <td>Unknown</td>\n",
       "      <td>Beit Furik</td>\n",
       "      <td>Nablus</td>\n",
       "      <td>gunfire</td>\n",
       "      <td>NaN</td>\n",
       "      <td>Israeli civilians</td>\n",
       "      <td>Killed by a settler from Itamar while harvesti...</td>\n",
       "    </tr>\n",
       "    <tr>\n",
       "      <th>11121</th>\n",
       "      <td>Hillel Lieberman</td>\n",
       "      <td>2000-10-07</td>\n",
       "      <td>36.0</td>\n",
       "      <td>Israeli</td>\n",
       "      <td>Nablus</td>\n",
       "      <td>Nablus</td>\n",
       "      <td>West Bank</td>\n",
       "      <td>2000-10-07</td>\n",
       "      <td>M</td>\n",
       "      <td>Israelis</td>\n",
       "      <td>Elon Moreh</td>\n",
       "      <td>Nablus</td>\n",
       "      <td>gunfire</td>\n",
       "      <td>live ammunition</td>\n",
       "      <td>Palestinian civilians</td>\n",
       "      <td>His body was found a day after he disappeared.</td>\n",
       "    </tr>\n",
       "    <tr>\n",
       "      <th>11122</th>\n",
       "      <td>Fahed Mustafa 'Odeh Baker</td>\n",
       "      <td>2000-10-07</td>\n",
       "      <td>21.0</td>\n",
       "      <td>Palestinian</td>\n",
       "      <td>Bidya</td>\n",
       "      <td>Salfit</td>\n",
       "      <td>West Bank</td>\n",
       "      <td>2000-10-07</td>\n",
       "      <td>M</td>\n",
       "      <td>No</td>\n",
       "      <td>Bidya</td>\n",
       "      <td>Salfit</td>\n",
       "      <td>gunfire</td>\n",
       "      <td>NaN</td>\n",
       "      <td>Israeli civilians</td>\n",
       "      <td>Killed by settlers who rioted in Biddya village.</td>\n",
       "    </tr>\n",
       "    <tr>\n",
       "      <th>11123</th>\n",
       "      <td>Wichlav Zalsevsky</td>\n",
       "      <td>2000-10-02</td>\n",
       "      <td>24.0</td>\n",
       "      <td>Israeli</td>\n",
       "      <td>Masha</td>\n",
       "      <td>Salfit</td>\n",
       "      <td>West Bank</td>\n",
       "      <td>2000-10-02</td>\n",
       "      <td>M</td>\n",
       "      <td>Israelis</td>\n",
       "      <td>Ashdod</td>\n",
       "      <td>Israel</td>\n",
       "      <td>gunfire</td>\n",
       "      <td>live ammunition</td>\n",
       "      <td>Palestinian civilians</td>\n",
       "      <td>NaN</td>\n",
       "    </tr>\n",
       "  </tbody>\n",
       "</table>\n",
       "<p>11124 rows × 16 columns</p>\n",
       "</div>"
      ],
      "text/plain": [
       "                                              name date_of_event   age  \\\n",
       "0      'Abd a-Rahman Suleiman Muhammad Abu Daghash    2023-09-24  32.0   \n",
       "1             Usayed Farhan Muhammad 'Ali Abu 'Ali    2023-09-24  21.0   \n",
       "2                 'Abdallah 'Imad Sa'ed Abu Hassan    2023-09-22  16.0   \n",
       "3                 Durgham Muhammad Yihya al-Akhras    2023-09-20  19.0   \n",
       "4                     Raafat 'Omar Ahmad Khamaisah    2023-09-19  15.0   \n",
       "...                                            ...           ...   ...   \n",
       "11119                             Binyamin Herling    2000-10-19  64.0   \n",
       "11120                  Farid Musa 'Issa a-Nesasreh    2000-10-17  28.0   \n",
       "11121                             Hillel Lieberman    2000-10-07  36.0   \n",
       "11122                    Fahed Mustafa 'Odeh Baker    2000-10-07  21.0   \n",
       "11123                            Wichlav Zalsevsky    2000-10-02  24.0   \n",
       "\n",
       "       citizenship     event_location event_location_district  \\\n",
       "0      Palestinian     Nur Shams R.C.                 Tulkarm   \n",
       "1      Palestinian     Nur Shams R.C.                 Tulkarm   \n",
       "2      Palestinian           Kfar Dan                   Jenin   \n",
       "3      Palestinian  'Aqbat Jaber R.C.                 Jericho   \n",
       "4      Palestinian         Jenin R.C.                   Jenin   \n",
       "...            ...                ...                     ...   \n",
       "11119      Israeli             Nablus                  Nablus   \n",
       "11120  Palestinian         Beit Furik                  Nablus   \n",
       "11121      Israeli             Nablus                  Nablus   \n",
       "11122  Palestinian              Bidya                  Salfit   \n",
       "11123      Israeli              Masha                  Salfit   \n",
       "\n",
       "      event_location_region date_of_death gender took_part_in_the_hostilities  \\\n",
       "0                 West Bank    2023-09-24      M                          NaN   \n",
       "1                 West Bank    2023-09-24      M                          NaN   \n",
       "2                 West Bank    2023-09-22      M                          NaN   \n",
       "3                 West Bank    2023-09-20      M                          NaN   \n",
       "4                 West Bank    2023-09-19      M                          NaN   \n",
       "...                     ...           ...    ...                          ...   \n",
       "11119             West Bank    2000-10-19      M                     Israelis   \n",
       "11120             West Bank    2000-10-17      M                      Unknown   \n",
       "11121             West Bank    2000-10-07      M                     Israelis   \n",
       "11122             West Bank    2000-10-07      M                           No   \n",
       "11123             West Bank    2000-10-02      M                     Israelis   \n",
       "\n",
       "      place_of_residence place_of_residence_district type_of_injury  \\\n",
       "0         Nur Shams R.C.                     Tulkarm        gunfire   \n",
       "1         Nur Shams R.C.                     Tulkarm        gunfire   \n",
       "2               al-Yamun                       Jenin        gunfire   \n",
       "3      'Aqbat Jaber R.C.                     Jericho        gunfire   \n",
       "4                  Jenin                       Jenin        gunfire   \n",
       "...                  ...                         ...            ...   \n",
       "11119            Kedumim                     Tulkarm        gunfire   \n",
       "11120         Beit Furik                      Nablus        gunfire   \n",
       "11121         Elon Moreh                      Nablus        gunfire   \n",
       "11122              Bidya                      Salfit        gunfire   \n",
       "11123             Ashdod                      Israel        gunfire   \n",
       "\n",
       "            ammunition                killed_by  \\\n",
       "0      live ammunition  Israeli security forces   \n",
       "1      live ammunition  Israeli security forces   \n",
       "2      live ammunition  Israeli security forces   \n",
       "3      live ammunition  Israeli security forces   \n",
       "4      live ammunition  Israeli security forces   \n",
       "...                ...                      ...   \n",
       "11119  live ammunition    Palestinian civilians   \n",
       "11120              NaN        Israeli civilians   \n",
       "11121  live ammunition    Palestinian civilians   \n",
       "11122              NaN        Israeli civilians   \n",
       "11123  live ammunition    Palestinian civilians   \n",
       "\n",
       "                                                   notes  \n",
       "0      Fatally shot by Israeli forces while standing ...  \n",
       "1      Fatally shot by Israeli forces while trying to...  \n",
       "2      Fatally shot by soldiers while firing at them ...  \n",
       "3      Shot in the head by Israeli forces while throw...  \n",
       "4      Wounded by soldiers’ gunfire after running awa...  \n",
       "...                                                  ...  \n",
       "11119                  Killed while hiking on Mt. Eival.  \n",
       "11120  Killed by a settler from Itamar while harvesti...  \n",
       "11121     His body was found a day after he disappeared.  \n",
       "11122   Killed by settlers who rioted in Biddya village.  \n",
       "11123                                                NaN  \n",
       "\n",
       "[11124 rows x 16 columns]"
      ]
     },
     "execution_count": 3,
     "metadata": {},
     "output_type": "execute_result"
    }
   ],
   "source": [
    "df=pd.read_csv('../data/external/fatalities_isr_pse_conflict_2000_to_2023.csv')\n",
    "df"
   ]
  },
  {
   "cell_type": "code",
   "execution_count": 4,
   "id": "8617d244",
   "metadata": {},
   "outputs": [
    {
     "name": "stdout",
     "output_type": "stream",
     "text": [
      "<class 'pandas.core.frame.DataFrame'>\n",
      "RangeIndex: 11124 entries, 0 to 11123\n",
      "Data columns (total 16 columns):\n",
      " #   Column                        Non-Null Count  Dtype  \n",
      "---  ------                        --------------  -----  \n",
      " 0   name                          11124 non-null  object \n",
      " 1   date_of_event                 11124 non-null  object \n",
      " 2   age                           10995 non-null  float64\n",
      " 3   citizenship                   11124 non-null  object \n",
      " 4   event_location                11124 non-null  object \n",
      " 5   event_location_district       11124 non-null  object \n",
      " 6   event_location_region         11124 non-null  object \n",
      " 7   date_of_death                 11124 non-null  object \n",
      " 8   gender                        11104 non-null  object \n",
      " 9   took_part_in_the_hostilities  9694 non-null   object \n",
      " 10  place_of_residence            11056 non-null  object \n",
      " 11  place_of_residence_district   11056 non-null  object \n",
      " 12  type_of_injury                10833 non-null  object \n",
      " 13  ammunition                    5871 non-null   object \n",
      " 14  killed_by                     11124 non-null  object \n",
      " 15  notes                         10844 non-null  object \n",
      "dtypes: float64(1), object(15)\n",
      "memory usage: 1.4+ MB\n"
     ]
    }
   ],
   "source": [
    "df.info()"
   ]
  },
  {
   "cell_type": "code",
   "execution_count": 5,
   "id": "487b607e",
   "metadata": {},
   "outputs": [],
   "source": [
    "from datasist.structdata import detect_outliers"
   ]
  },
  {
   "cell_type": "code",
   "execution_count": 6,
   "id": "0172d6a9",
   "metadata": {},
   "outputs": [
    {
     "data": {
      "text/plain": [
       "Index(['age'], dtype='object')"
      ]
     },
     "execution_count": 6,
     "metadata": {},
     "output_type": "execute_result"
    }
   ],
   "source": [
    "num_col=df.select_dtypes(include='number')\n",
    "num_col=num_col.columns\n",
    "num_col"
   ]
  },
  {
   "cell_type": "code",
   "execution_count": 7,
   "id": "f34121e4",
   "metadata": {},
   "outputs": [
    {
     "data": {
      "text/plain": [
       "0"
      ]
     },
     "execution_count": 7,
     "metadata": {},
     "output_type": "execute_result"
    }
   ],
   "source": [
    "len(detect_outliers(df,0,num_col))"
   ]
  },
  {
   "cell_type": "code",
   "execution_count": 8,
   "id": "b51fe7ac",
   "metadata": {},
   "outputs": [
    {
     "data": {
      "text/plain": [
       "129"
      ]
     },
     "execution_count": 8,
     "metadata": {},
     "output_type": "execute_result"
    }
   ],
   "source": [
    "df['age'].isnull().sum()"
   ]
  },
  {
   "cell_type": "code",
   "execution_count": 9,
   "id": "3f731ffb",
   "metadata": {},
   "outputs": [],
   "source": [
    "df['age']=df['age'].fillna(df['age'].median())"
   ]
  },
  {
   "cell_type": "code",
   "execution_count": 10,
   "id": "0e9a4d73",
   "metadata": {},
   "outputs": [
    {
     "data": {
      "text/plain": [
       "array(['M', 'F', nan], dtype=object)"
      ]
     },
     "execution_count": 10,
     "metadata": {},
     "output_type": "execute_result"
    }
   ],
   "source": [
    "df['gender'].unique()"
   ]
  },
  {
   "cell_type": "code",
   "execution_count": 11,
   "id": "077debda",
   "metadata": {},
   "outputs": [
    {
     "data": {
      "text/plain": [
       "20"
      ]
     },
     "execution_count": 11,
     "metadata": {},
     "output_type": "execute_result"
    }
   ],
   "source": [
    "df['gender'].isnull().sum()"
   ]
  },
  {
   "cell_type": "code",
   "execution_count": 12,
   "id": "76dbfafd",
   "metadata": {},
   "outputs": [],
   "source": [
    "df.dropna(subset=['gender'],axis=0,inplace=True)"
   ]
  },
  {
   "cell_type": "code",
   "execution_count": 13,
   "id": "fcb04787",
   "metadata": {},
   "outputs": [
    {
     "data": {
      "text/plain": [
       "0"
      ]
     },
     "execution_count": 13,
     "metadata": {},
     "output_type": "execute_result"
    }
   ],
   "source": [
    "df['gender'].isnull().sum()"
   ]
  },
  {
   "cell_type": "code",
   "execution_count": 14,
   "id": "80fb3d37",
   "metadata": {},
   "outputs": [
    {
     "name": "stdout",
     "output_type": "stream",
     "text": [
      "<class 'pandas.core.frame.DataFrame'>\n",
      "Int64Index: 11104 entries, 0 to 11123\n",
      "Data columns (total 16 columns):\n",
      " #   Column                        Non-Null Count  Dtype  \n",
      "---  ------                        --------------  -----  \n",
      " 0   name                          11104 non-null  object \n",
      " 1   date_of_event                 11104 non-null  object \n",
      " 2   age                           11104 non-null  float64\n",
      " 3   citizenship                   11104 non-null  object \n",
      " 4   event_location                11104 non-null  object \n",
      " 5   event_location_district       11104 non-null  object \n",
      " 6   event_location_region         11104 non-null  object \n",
      " 7   date_of_death                 11104 non-null  object \n",
      " 8   gender                        11104 non-null  object \n",
      " 9   took_part_in_the_hostilities  9674 non-null   object \n",
      " 10  place_of_residence            11056 non-null  object \n",
      " 11  place_of_residence_district   11056 non-null  object \n",
      " 12  type_of_injury                10815 non-null  object \n",
      " 13  ammunition                    5871 non-null   object \n",
      " 14  killed_by                     11104 non-null  object \n",
      " 15  notes                         10834 non-null  object \n",
      "dtypes: float64(1), object(15)\n",
      "memory usage: 1.4+ MB\n"
     ]
    }
   ],
   "source": [
    "df.info()"
   ]
  },
  {
   "cell_type": "code",
   "execution_count": 15,
   "id": "ac886fb4",
   "metadata": {},
   "outputs": [
    {
     "data": {
      "text/plain": [
       "array([nan, 'No', 'Yes', 'Unknown', 'Israelis',\n",
       "       'Object of targeted killing'], dtype=object)"
      ]
     },
     "execution_count": 15,
     "metadata": {},
     "output_type": "execute_result"
    }
   ],
   "source": [
    "df['took_part_in_the_hostilities'].unique()"
   ]
  },
  {
   "cell_type": "code",
   "execution_count": 16,
   "id": "6206a01a",
   "metadata": {},
   "outputs": [
    {
     "data": {
      "text/plain": [
       "No                            4653\n",
       "Yes                           3463\n",
       "Israelis                       771\n",
       "Unknown                        587\n",
       "Object of targeted killing     200\n",
       "Name: took_part_in_the_hostilities, dtype: int64"
      ]
     },
     "execution_count": 16,
     "metadata": {},
     "output_type": "execute_result"
    }
   ],
   "source": [
    "df['took_part_in_the_hostilities'].value_counts()"
   ]
  },
  {
   "cell_type": "code",
   "execution_count": 17,
   "id": "fcac6bc7",
   "metadata": {},
   "outputs": [
    {
     "data": {
      "text/plain": [
       "1430"
      ]
     },
     "execution_count": 17,
     "metadata": {},
     "output_type": "execute_result"
    }
   ],
   "source": [
    "df['took_part_in_the_hostilities'].isnull().sum()"
   ]
  },
  {
   "cell_type": "code",
   "execution_count": 18,
   "id": "3b0a136a",
   "metadata": {},
   "outputs": [],
   "source": [
    "df['took_part_in_the_hostilities']=df['took_part_in_the_hostilities'].fillna('Unknown')"
   ]
  },
  {
   "cell_type": "code",
   "execution_count": 19,
   "id": "9e8b8f03",
   "metadata": {},
   "outputs": [
    {
     "data": {
      "text/plain": [
       "0"
      ]
     },
     "execution_count": 19,
     "metadata": {},
     "output_type": "execute_result"
    }
   ],
   "source": [
    "df['took_part_in_the_hostilities'].isnull().sum()"
   ]
  },
  {
   "cell_type": "code",
   "execution_count": 20,
   "id": "d6991425",
   "metadata": {},
   "outputs": [
    {
     "data": {
      "text/plain": [
       "array(['live ammunition', 'missile', nan, 'rocket',\n",
       "       '0.22-caliber bullets', 'bomb', 'knife', 'shell', 'rock',\n",
       "       'rubber-coated metal bullets', 'stun grenade', 'teargas canister',\n",
       "       'flare bomb', 'sponge rounds', 'mortar fire', 'grad rocket',\n",
       "       'flechette shells', 'phosphorus shell', 'Qassam rocket',\n",
       "       'explosive belt', 'grenade', 'car bomb'], dtype=object)"
      ]
     },
     "execution_count": 20,
     "metadata": {},
     "output_type": "execute_result"
    }
   ],
   "source": [
    "df['ammunition'].unique()"
   ]
  },
  {
   "cell_type": "code",
   "execution_count": 21,
   "id": "77139847",
   "metadata": {},
   "outputs": [
    {
     "data": {
      "text/plain": [
       "missile                        2877\n",
       "live ammunition                1514\n",
       "shell                           675\n",
       "explosive belt                  326\n",
       "bomb                            249\n",
       "mortar fire                      51\n",
       "knife                            37\n",
       "flechette shells                 22\n",
       "rubber-coated metal bullets      19\n",
       "0.22-caliber bullets             16\n",
       "phosphorus shell                 16\n",
       "Qassam rocket                    15\n",
       "car bomb                         15\n",
       "teargas canister                 13\n",
       "rocket                           12\n",
       "grad rocket                       7\n",
       "sponge rounds                     2\n",
       "grenade                           2\n",
       "flare bomb                        1\n",
       "stun grenade                      1\n",
       "rock                              1\n",
       "Name: ammunition, dtype: int64"
      ]
     },
     "execution_count": 21,
     "metadata": {},
     "output_type": "execute_result"
    }
   ],
   "source": [
    "df['ammunition'].value_counts()"
   ]
  },
  {
   "cell_type": "code",
   "execution_count": 22,
   "id": "fdeabf0a",
   "metadata": {},
   "outputs": [
    {
     "data": {
      "text/plain": [
       "0    missile\n",
       "dtype: object"
      ]
     },
     "execution_count": 22,
     "metadata": {},
     "output_type": "execute_result"
    }
   ],
   "source": [
    "df['ammunition'].mode()"
   ]
  },
  {
   "cell_type": "code",
   "execution_count": 23,
   "id": "e883b9db",
   "metadata": {},
   "outputs": [],
   "source": [
    "df['ammunition']=df['ammunition'].fillna('missile')"
   ]
  },
  {
   "cell_type": "code",
   "execution_count": 24,
   "id": "db651e46",
   "metadata": {},
   "outputs": [
    {
     "name": "stdout",
     "output_type": "stream",
     "text": [
      "<class 'pandas.core.frame.DataFrame'>\n",
      "Int64Index: 11104 entries, 0 to 11123\n",
      "Data columns (total 16 columns):\n",
      " #   Column                        Non-Null Count  Dtype  \n",
      "---  ------                        --------------  -----  \n",
      " 0   name                          11104 non-null  object \n",
      " 1   date_of_event                 11104 non-null  object \n",
      " 2   age                           11104 non-null  float64\n",
      " 3   citizenship                   11104 non-null  object \n",
      " 4   event_location                11104 non-null  object \n",
      " 5   event_location_district       11104 non-null  object \n",
      " 6   event_location_region         11104 non-null  object \n",
      " 7   date_of_death                 11104 non-null  object \n",
      " 8   gender                        11104 non-null  object \n",
      " 9   took_part_in_the_hostilities  11104 non-null  object \n",
      " 10  place_of_residence            11056 non-null  object \n",
      " 11  place_of_residence_district   11056 non-null  object \n",
      " 12  type_of_injury                10815 non-null  object \n",
      " 13  ammunition                    11104 non-null  object \n",
      " 14  killed_by                     11104 non-null  object \n",
      " 15  notes                         10834 non-null  object \n",
      "dtypes: float64(1), object(15)\n",
      "memory usage: 1.4+ MB\n"
     ]
    }
   ],
   "source": [
    "df.info()"
   ]
  },
  {
   "cell_type": "code",
   "execution_count": 25,
   "id": "0869d2ba",
   "metadata": {},
   "outputs": [
    {
     "data": {
      "text/plain": [
       "'Gaza city'"
      ]
     },
     "execution_count": 25,
     "metadata": {},
     "output_type": "execute_result"
    }
   ],
   "source": [
    "df['place_of_residence'].mode()[0]"
   ]
  },
  {
   "cell_type": "code",
   "execution_count": 26,
   "id": "24b02b77",
   "metadata": {},
   "outputs": [],
   "source": [
    "df['place_of_residence']=df['place_of_residence'].fillna(df['place_of_residence'].mode()[0])"
   ]
  },
  {
   "cell_type": "code",
   "execution_count": 27,
   "id": "7b7edc98",
   "metadata": {},
   "outputs": [
    {
     "data": {
      "text/plain": [
       "Gaza city       2331\n",
       "Rafah            892\n",
       "Khan Yunis       717\n",
       "Jabalya R.C.     565\n",
       "Beit Lahiya      479\n",
       "                ... \n",
       "al-'Auja           1\n",
       "Sheqef             1\n",
       "Rakhme             1\n",
       "Kafr Qadum         1\n",
       "Banei Ayish        1\n",
       "Name: place_of_residence, Length: 580, dtype: int64"
      ]
     },
     "execution_count": 27,
     "metadata": {},
     "output_type": "execute_result"
    }
   ],
   "source": [
    "df['place_of_residence'].value_counts()"
   ]
  },
  {
   "cell_type": "code",
   "execution_count": 28,
   "id": "35731e3f",
   "metadata": {},
   "outputs": [
    {
     "data": {
      "text/plain": [
       "0"
      ]
     },
     "execution_count": 28,
     "metadata": {},
     "output_type": "execute_result"
    }
   ],
   "source": [
    "df['place_of_residence'].isnull().sum()"
   ]
  },
  {
   "cell_type": "code",
   "execution_count": 29,
   "id": "73cc6323",
   "metadata": {},
   "outputs": [],
   "source": [
    "df['place_of_residence_district']=df['place_of_residence_district'].fillna(df['place_of_residence_district'].mode()[0])"
   ]
  },
  {
   "cell_type": "code",
   "execution_count": 30,
   "id": "25f98fe3",
   "metadata": {},
   "outputs": [
    {
     "name": "stdout",
     "output_type": "stream",
     "text": [
      "<class 'pandas.core.frame.DataFrame'>\n",
      "Int64Index: 11104 entries, 0 to 11123\n",
      "Data columns (total 16 columns):\n",
      " #   Column                        Non-Null Count  Dtype  \n",
      "---  ------                        --------------  -----  \n",
      " 0   name                          11104 non-null  object \n",
      " 1   date_of_event                 11104 non-null  object \n",
      " 2   age                           11104 non-null  float64\n",
      " 3   citizenship                   11104 non-null  object \n",
      " 4   event_location                11104 non-null  object \n",
      " 5   event_location_district       11104 non-null  object \n",
      " 6   event_location_region         11104 non-null  object \n",
      " 7   date_of_death                 11104 non-null  object \n",
      " 8   gender                        11104 non-null  object \n",
      " 9   took_part_in_the_hostilities  11104 non-null  object \n",
      " 10  place_of_residence            11104 non-null  object \n",
      " 11  place_of_residence_district   11104 non-null  object \n",
      " 12  type_of_injury                10815 non-null  object \n",
      " 13  ammunition                    11104 non-null  object \n",
      " 14  killed_by                     11104 non-null  object \n",
      " 15  notes                         10834 non-null  object \n",
      "dtypes: float64(1), object(15)\n",
      "memory usage: 1.4+ MB\n"
     ]
    }
   ],
   "source": [
    "df.info()"
   ]
  },
  {
   "cell_type": "code",
   "execution_count": 31,
   "id": "b80b0858",
   "metadata": {},
   "outputs": [
    {
     "data": {
      "text/plain": [
       "gunfire                         9831\n",
       "explosion                        555\n",
       "shelling                         311\n",
       "stabbing                          48\n",
       "house demolition                  25\n",
       "hit by a vehicle                  18\n",
       "beating                            9\n",
       "stones throwing                    6\n",
       "being bludgeoned with an axe       4\n",
       "fire                               4\n",
       "physically assaulted               2\n",
       "physical assault                   1\n",
       "Strangulation                      1\n",
       "Name: type_of_injury, dtype: int64"
      ]
     },
     "execution_count": 31,
     "metadata": {},
     "output_type": "execute_result"
    }
   ],
   "source": [
    "df['type_of_injury'].value_counts()"
   ]
  },
  {
   "cell_type": "code",
   "execution_count": 32,
   "id": "d08996a3",
   "metadata": {},
   "outputs": [],
   "source": [
    "df['type_of_injury']=df['type_of_injury'].fillna(df['type_of_injury'].mode()[0])"
   ]
  },
  {
   "cell_type": "code",
   "execution_count": 33,
   "id": "2cefe5d9",
   "metadata": {},
   "outputs": [
    {
     "data": {
      "text/plain": [
       "Palestinian    10072\n",
       "Israeli         1029\n",
       "Jordanian          2\n",
       "American           1\n",
       "Name: citizenship, dtype: int64"
      ]
     },
     "execution_count": 33,
     "metadata": {},
     "output_type": "execute_result"
    }
   ],
   "source": [
    "df['citizenship'].value_counts()"
   ]
  },
  {
   "cell_type": "code",
   "execution_count": 34,
   "id": "c4e95a0b",
   "metadata": {},
   "outputs": [
    {
     "data": {
      "text/plain": [
       "Gaza City              2232\n",
       "Rafah                   831\n",
       "Khan Yunis              538\n",
       "Jabalya R.C.            477\n",
       "Beit Lahiya             471\n",
       "                       ... \n",
       "al-'Esawiyah              1\n",
       "Elazar                    1\n",
       "Kibbutz Beit Govrin       1\n",
       "Kh. Shuweika              1\n",
       "Masha                     1\n",
       "Name: event_location, Length: 494, dtype: int64"
      ]
     },
     "execution_count": 34,
     "metadata": {},
     "output_type": "execute_result"
    }
   ],
   "source": [
    "df['event_location'].value_counts()"
   ]
  },
  {
   "cell_type": "code",
   "execution_count": 35,
   "id": "0f86bb22",
   "metadata": {},
   "outputs": [
    {
     "name": "stdout",
     "output_type": "stream",
     "text": [
      "<class 'pandas.core.frame.DataFrame'>\n",
      "Int64Index: 11104 entries, 0 to 11123\n",
      "Data columns (total 16 columns):\n",
      " #   Column                        Non-Null Count  Dtype  \n",
      "---  ------                        --------------  -----  \n",
      " 0   name                          11104 non-null  object \n",
      " 1   date_of_event                 11104 non-null  object \n",
      " 2   age                           11104 non-null  float64\n",
      " 3   citizenship                   11104 non-null  object \n",
      " 4   event_location                11104 non-null  object \n",
      " 5   event_location_district       11104 non-null  object \n",
      " 6   event_location_region         11104 non-null  object \n",
      " 7   date_of_death                 11104 non-null  object \n",
      " 8   gender                        11104 non-null  object \n",
      " 9   took_part_in_the_hostilities  11104 non-null  object \n",
      " 10  place_of_residence            11104 non-null  object \n",
      " 11  place_of_residence_district   11104 non-null  object \n",
      " 12  type_of_injury                11104 non-null  object \n",
      " 13  ammunition                    11104 non-null  object \n",
      " 14  killed_by                     11104 non-null  object \n",
      " 15  notes                         10834 non-null  object \n",
      "dtypes: float64(1), object(15)\n",
      "memory usage: 1.4+ MB\n"
     ]
    }
   ],
   "source": [
    "df.info()"
   ]
  },
  {
   "cell_type": "code",
   "execution_count": 39,
   "id": "cb63a42b",
   "metadata": {},
   "outputs": [],
   "source": [
    "df=df.drop('notes',axis=1)"
   ]
  },
  {
   "cell_type": "code",
   "execution_count": 40,
   "id": "bc0524a7",
   "metadata": {},
   "outputs": [
    {
     "name": "stdout",
     "output_type": "stream",
     "text": [
      "<class 'pandas.core.frame.DataFrame'>\n",
      "Int64Index: 11104 entries, 0 to 11123\n",
      "Data columns (total 15 columns):\n",
      " #   Column                        Non-Null Count  Dtype  \n",
      "---  ------                        --------------  -----  \n",
      " 0   name                          11104 non-null  object \n",
      " 1   date_of_event                 11104 non-null  object \n",
      " 2   age                           11104 non-null  float64\n",
      " 3   citizenship                   11104 non-null  object \n",
      " 4   event_location                11104 non-null  object \n",
      " 5   event_location_district       11104 non-null  object \n",
      " 6   event_location_region         11104 non-null  object \n",
      " 7   date_of_death                 11104 non-null  object \n",
      " 8   gender                        11104 non-null  object \n",
      " 9   took_part_in_the_hostilities  11104 non-null  object \n",
      " 10  place_of_residence            11104 non-null  object \n",
      " 11  place_of_residence_district   11104 non-null  object \n",
      " 12  type_of_injury                11104 non-null  object \n",
      " 13  ammunition                    11104 non-null  object \n",
      " 14  killed_by                     11104 non-null  object \n",
      "dtypes: float64(1), object(14)\n",
      "memory usage: 1.6+ MB\n"
     ]
    }
   ],
   "source": [
    "df.info()"
   ]
  },
  {
   "cell_type": "code",
   "execution_count": 41,
   "id": "5662b4fa",
   "metadata": {},
   "outputs": [],
   "source": [
    "df.to_csv('../data/processed/palestine_dataset_cleaned.csv')"
   ]
  }
 ],
 "metadata": {
  "kernelspec": {
   "display_name": "Python 3 (ipykernel)",
   "language": "python",
   "name": "python3"
  },
  "language_info": {
   "codemirror_mode": {
    "name": "ipython",
    "version": 3
   },
   "file_extension": ".py",
   "mimetype": "text/x-python",
   "name": "python",
   "nbconvert_exporter": "python",
   "pygments_lexer": "ipython3",
   "version": "3.9.7"
  }
 },
 "nbformat": 4,
 "nbformat_minor": 5
}
